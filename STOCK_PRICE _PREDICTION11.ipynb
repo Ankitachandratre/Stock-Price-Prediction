{
 "cells": [
  {
   "cell_type": "code",
   "execution_count": 1,
   "metadata": {
    "_cell_guid": "b1076dfc-b9ad-4769-8c92-a6c4dae69d19",
    "_uuid": "8f2839f25d086af736a60e9eeb907d3b93b6e0e5",
    "execution": {
     "iopub.execute_input": "2021-07-06T09:22:07.548332Z",
     "iopub.status.busy": "2021-07-06T09:22:07.547952Z",
     "iopub.status.idle": "2021-07-06T09:22:07.572601Z",
     "shell.execute_reply": "2021-07-06T09:22:07.571590Z",
     "shell.execute_reply.started": "2021-07-06T09:22:07.548259Z"
    }
   },
   "outputs": [
    {
     "name": "stdout",
     "output_type": "stream",
     "text": [
      "/kaggle/input/google-stock-price/Google_Stock_Price_Test.csv\n",
      "/kaggle/input/google-stock-price/Google_Stock_Price_Train.csv\n"
     ]
    }
   ],
   "source": [
    "# This Python 3 environment comes with many helpful analytics libraries installed\n",
    "# It is defined by the kaggle/python Docker image: https://github.com/kaggle/docker-python\n",
    "# For example, here's several helpful packages to load\n",
    "\n",
    "import numpy as np # linear algebra\n",
    "import pandas as pd # data processing, CSV file I/O (e.g. pd.read_csv)\n",
    "\n",
    "# Input data files are available in the read-only \"../input/\" directory\n",
    "# For example, running this (by clicking run or pressing Shift+Enter) will list all files under the input directory\n",
    "\n",
    "import os\n",
    "for dirname, _, filenames in os.walk('/kaggle/input'):\n",
    "    for filename in filenames:\n",
    "        print(os.path.join(dirname, filename))\n",
    "\n",
    "# You can write up to 20GB to the current directory (/kaggle/working/) that gets preserved as output when you create a version using \"Save & Run All\" \n",
    "# You can also write temporary files to /kaggle/temp/, but they won't be saved outside of the current session"
   ]
  },
  {
   "cell_type": "code",
   "execution_count": 2,
   "metadata": {
    "execution": {
     "iopub.execute_input": "2021-07-06T09:22:18.548044Z",
     "iopub.status.busy": "2021-07-06T09:22:18.547709Z",
     "iopub.status.idle": "2021-07-06T09:22:18.584837Z",
     "shell.execute_reply": "2021-07-06T09:22:18.584069Z",
     "shell.execute_reply.started": "2021-07-06T09:22:18.548014Z"
    }
   },
   "outputs": [],
   "source": [
    "df_train = pd.read_csv('/kaggle/input/google-stock-price/Google_Stock_Price_Train.csv')\n",
    "df_test = pd.read_csv('/kaggle/input/google-stock-price/Google_Stock_Price_Test.csv')"
   ]
  },
  {
   "cell_type": "code",
   "execution_count": 3,
   "metadata": {
    "execution": {
     "iopub.execute_input": "2021-07-06T09:22:59.280029Z",
     "iopub.status.busy": "2021-07-06T09:22:59.279696Z",
     "iopub.status.idle": "2021-07-06T09:22:59.294487Z",
     "shell.execute_reply": "2021-07-06T09:22:59.293299Z",
     "shell.execute_reply.started": "2021-07-06T09:22:59.279997Z"
    }
   },
   "outputs": [
    {
     "data": {
      "text/plain": [
       "0       325.25\n",
       "1       331.27\n",
       "2       329.83\n",
       "3       328.34\n",
       "4       322.04\n",
       "         ...  \n",
       "1253    790.90\n",
       "1254    790.68\n",
       "1255    793.70\n",
       "1256    783.33\n",
       "1257    782.75\n",
       "Name: Open, Length: 1258, dtype: float64"
      ]
     },
     "execution_count": 3,
     "metadata": {},
     "output_type": "execute_result"
    }
   ],
   "source": [
    "df_train['Open']"
   ]
  },
  {
   "cell_type": "code",
   "execution_count": 4,
   "metadata": {
    "execution": {
     "iopub.execute_input": "2021-07-06T09:23:27.622533Z",
     "iopub.status.busy": "2021-07-06T09:23:27.622219Z",
     "iopub.status.idle": "2021-07-06T09:23:27.628610Z",
     "shell.execute_reply": "2021-07-06T09:23:27.627822Z",
     "shell.execute_reply.started": "2021-07-06T09:23:27.622505Z"
    }
   },
   "outputs": [
    {
     "data": {
      "text/plain": [
       "(1258, 6)"
      ]
     },
     "execution_count": 4,
     "metadata": {},
     "output_type": "execute_result"
    }
   ],
   "source": [
    "df_train.shape"
   ]
  },
  {
   "cell_type": "code",
   "execution_count": 5,
   "metadata": {
    "execution": {
     "iopub.execute_input": "2021-07-06T09:23:42.453398Z",
     "iopub.status.busy": "2021-07-06T09:23:42.453091Z",
     "iopub.status.idle": "2021-07-06T09:23:43.168548Z",
     "shell.execute_reply": "2021-07-06T09:23:43.167711Z",
     "shell.execute_reply.started": "2021-07-06T09:23:42.453370Z"
    }
   },
   "outputs": [],
   "source": [
    "from sklearn.preprocessing import MinMaxScaler"
   ]
  },
  {
   "cell_type": "code",
   "execution_count": 6,
   "metadata": {
    "execution": {
     "iopub.execute_input": "2021-07-06T09:24:58.342727Z",
     "iopub.status.busy": "2021-07-06T09:24:58.342384Z",
     "iopub.status.idle": "2021-07-06T09:24:58.355660Z",
     "shell.execute_reply": "2021-07-06T09:24:58.354881Z",
     "shell.execute_reply.started": "2021-07-06T09:24:58.342697Z"
    }
   },
   "outputs": [],
   "source": [
    "scaler = MinMaxScaler()\n",
    "X_temp=scaler.fit_transform(df_train[['Open']])"
   ]
  },
  {
   "cell_type": "code",
   "execution_count": 7,
   "metadata": {
    "execution": {
     "iopub.execute_input": "2021-07-06T09:25:43.997567Z",
     "iopub.status.busy": "2021-07-06T09:25:43.997229Z",
     "iopub.status.idle": "2021-07-06T09:25:44.002806Z",
     "shell.execute_reply": "2021-07-06T09:25:44.001939Z",
     "shell.execute_reply.started": "2021-07-06T09:25:43.997537Z"
    }
   },
   "outputs": [
    {
     "data": {
      "text/plain": [
       "array([[0.08581368],\n",
       "       [0.09701243],\n",
       "       [0.09433366],\n",
       "       ...,\n",
       "       [0.95725128],\n",
       "       [0.93796041],\n",
       "       [0.93688146]])"
      ]
     },
     "execution_count": 7,
     "metadata": {},
     "output_type": "execute_result"
    }
   ],
   "source": [
    "X_temp"
   ]
  },
  {
   "cell_type": "code",
   "execution_count": 8,
   "metadata": {
    "execution": {
     "iopub.execute_input": "2021-07-06T09:26:11.251914Z",
     "iopub.status.busy": "2021-07-06T09:26:11.251525Z",
     "iopub.status.idle": "2021-07-06T09:26:11.257687Z",
     "shell.execute_reply": "2021-07-06T09:26:11.256569Z",
     "shell.execute_reply.started": "2021-07-06T09:26:11.251860Z"
    }
   },
   "outputs": [
    {
     "data": {
      "text/plain": [
       "(1258, 1)"
      ]
     },
     "execution_count": 8,
     "metadata": {},
     "output_type": "execute_result"
    }
   ],
   "source": [
    "X_temp.shape"
   ]
  },
  {
   "cell_type": "code",
   "execution_count": 9,
   "metadata": {
    "execution": {
     "iopub.execute_input": "2021-07-06T09:32:20.218192Z",
     "iopub.status.busy": "2021-07-06T09:32:20.217858Z",
     "iopub.status.idle": "2021-07-06T09:32:20.225760Z",
     "shell.execute_reply": "2021-07-06T09:32:20.224985Z",
     "shell.execute_reply.started": "2021-07-06T09:32:20.218164Z"
    }
   },
   "outputs": [],
   "source": [
    "X = []\n",
    "for i in range (0,1198):\n",
    "    temp = X_temp[i:i+61,0]\n",
    "    X.append(temp)"
   ]
  },
  {
   "cell_type": "code",
   "execution_count": null,
   "metadata": {},
   "outputs": [],
   "source": []
  },
  {
   "cell_type": "code",
   "execution_count": null,
   "metadata": {},
   "outputs": [],
   "source": []
  },
  {
   "cell_type": "code",
   "execution_count": null,
   "metadata": {},
   "outputs": [],
   "source": []
  },
  {
   "cell_type": "code",
   "execution_count": 10,
   "metadata": {
    "execution": {
     "iopub.execute_input": "2021-07-06T09:32:34.208381Z",
     "iopub.status.busy": "2021-07-06T09:32:34.208068Z",
     "iopub.status.idle": "2021-07-06T09:32:34.213789Z",
     "shell.execute_reply": "2021-07-06T09:32:34.212897Z",
     "shell.execute_reply.started": "2021-07-06T09:32:34.208352Z"
    }
   },
   "outputs": [],
   "source": [
    "X = np.array(X)"
   ]
  },
  {
   "cell_type": "code",
   "execution_count": 11,
   "metadata": {
    "execution": {
     "iopub.execute_input": "2021-07-06T09:32:55.428228Z",
     "iopub.status.busy": "2021-07-06T09:32:55.427857Z",
     "iopub.status.idle": "2021-07-06T09:32:55.433182Z",
     "shell.execute_reply": "2021-07-06T09:32:55.432368Z",
     "shell.execute_reply.started": "2021-07-06T09:32:55.428197Z"
    }
   },
   "outputs": [
    {
     "data": {
      "text/plain": [
       "(1198, 61)"
      ]
     },
     "execution_count": 11,
     "metadata": {},
     "output_type": "execute_result"
    }
   ],
   "source": [
    "X.shape"
   ]
  },
  {
   "cell_type": "code",
   "execution_count": 12,
   "metadata": {
    "execution": {
     "iopub.execute_input": "2021-07-06T09:33:54.832583Z",
     "iopub.status.busy": "2021-07-06T09:33:54.832252Z",
     "iopub.status.idle": "2021-07-06T09:33:54.836954Z",
     "shell.execute_reply": "2021-07-06T09:33:54.835670Z",
     "shell.execute_reply.started": "2021-07-06T09:33:54.832554Z"
    }
   },
   "outputs": [],
   "source": [
    "y = X[:,-1]"
   ]
  },
  {
   "cell_type": "code",
   "execution_count": 13,
   "metadata": {
    "execution": {
     "iopub.execute_input": "2021-07-06T09:34:02.126958Z",
     "iopub.status.busy": "2021-07-06T09:34:02.126622Z",
     "iopub.status.idle": "2021-07-06T09:34:02.133860Z",
     "shell.execute_reply": "2021-07-06T09:34:02.132901Z",
     "shell.execute_reply.started": "2021-07-06T09:34:02.126931Z"
    }
   },
   "outputs": [
    {
     "data": {
      "text/plain": [
       "array([0.08627874, 0.08471612, 0.07454052, ..., 0.95725128, 0.93796041,\n",
       "       0.93688146])"
      ]
     },
     "execution_count": 13,
     "metadata": {},
     "output_type": "execute_result"
    }
   ],
   "source": [
    "y"
   ]
  },
  {
   "cell_type": "code",
   "execution_count": 14,
   "metadata": {
    "execution": {
     "iopub.execute_input": "2021-07-06T09:35:03.653025Z",
     "iopub.status.busy": "2021-07-06T09:35:03.652617Z",
     "iopub.status.idle": "2021-07-06T09:35:03.659962Z",
     "shell.execute_reply": "2021-07-06T09:35:03.659100Z",
     "shell.execute_reply.started": "2021-07-06T09:35:03.652988Z"
    }
   },
   "outputs": [],
   "source": [
    "X = X[:,:-1]"
   ]
  },
  {
   "cell_type": "code",
   "execution_count": 15,
   "metadata": {
    "execution": {
     "iopub.execute_input": "2021-07-06T09:35:10.376976Z",
     "iopub.status.busy": "2021-07-06T09:35:10.376647Z",
     "iopub.status.idle": "2021-07-06T09:35:10.382361Z",
     "shell.execute_reply": "2021-07-06T09:35:10.381380Z",
     "shell.execute_reply.started": "2021-07-06T09:35:10.376945Z"
    }
   },
   "outputs": [
    {
     "data": {
      "text/plain": [
       "(1198, 60)"
      ]
     },
     "execution_count": 15,
     "metadata": {},
     "output_type": "execute_result"
    }
   ],
   "source": [
    "X.shape"
   ]
  },
  {
   "cell_type": "code",
   "execution_count": 16,
   "metadata": {
    "execution": {
     "iopub.execute_input": "2021-07-06T09:35:32.353245Z",
     "iopub.status.busy": "2021-07-06T09:35:32.352927Z",
     "iopub.status.idle": "2021-07-06T09:35:32.357302Z",
     "shell.execute_reply": "2021-07-06T09:35:32.356172Z",
     "shell.execute_reply.started": "2021-07-06T09:35:32.353217Z"
    }
   },
   "outputs": [],
   "source": [
    "X = X.reshape(-1,60,1)"
   ]
  },
  {
   "cell_type": "code",
   "execution_count": 17,
   "metadata": {
    "execution": {
     "iopub.execute_input": "2021-07-06T09:35:39.652634Z",
     "iopub.status.busy": "2021-07-06T09:35:39.652334Z",
     "iopub.status.idle": "2021-07-06T09:35:39.659240Z",
     "shell.execute_reply": "2021-07-06T09:35:39.658189Z",
     "shell.execute_reply.started": "2021-07-06T09:35:39.652606Z"
    }
   },
   "outputs": [
    {
     "data": {
      "text/plain": [
       "(1198, 60, 1)"
      ]
     },
     "execution_count": 17,
     "metadata": {},
     "output_type": "execute_result"
    }
   ],
   "source": [
    "X.shape"
   ]
  },
  {
   "cell_type": "code",
   "execution_count": 18,
   "metadata": {
    "execution": {
     "iopub.execute_input": "2021-07-06T09:36:13.023166Z",
     "iopub.status.busy": "2021-07-06T09:36:13.022824Z",
     "iopub.status.idle": "2021-07-06T09:36:17.848214Z",
     "shell.execute_reply": "2021-07-06T09:36:17.847366Z",
     "shell.execute_reply.started": "2021-07-06T09:36:13.023137Z"
    }
   },
   "outputs": [],
   "source": [
    "from tensorflow.keras.layers import Dense,LSTM\n",
    "from tensorflow.keras.models import Sequential"
   ]
  },
  {
   "cell_type": "code",
   "execution_count": 19,
   "metadata": {
    "execution": {
     "iopub.execute_input": "2021-07-06T09:36:41.367149Z",
     "iopub.status.busy": "2021-07-06T09:36:41.366795Z",
     "iopub.status.idle": "2021-07-06T09:36:44.374553Z",
     "shell.execute_reply": "2021-07-06T09:36:44.373750Z",
     "shell.execute_reply.started": "2021-07-06T09:36:41.367121Z"
    }
   },
   "outputs": [],
   "source": [
    "model = Sequential()\n",
    "model.add(LSTM(50,return_sequences = True,input_shape=(60,1)))\n",
    "model.add(LSTM(50,return_sequences = True))\n",
    "model.add(LSTM(50,return_sequences = True))\n",
    "model.add(LSTM(50,return_sequences = False))\n",
    "model.add(Dense(1))\n"
   ]
  },
  {
   "cell_type": "code",
   "execution_count": 20,
   "metadata": {
    "execution": {
     "iopub.execute_input": "2021-07-06T09:37:27.063108Z",
     "iopub.status.busy": "2021-07-06T09:37:27.062753Z",
     "iopub.status.idle": "2021-07-06T09:37:27.079747Z",
     "shell.execute_reply": "2021-07-06T09:37:27.078742Z",
     "shell.execute_reply.started": "2021-07-06T09:37:27.063078Z"
    }
   },
   "outputs": [],
   "source": [
    "model.compile(optimizer = 'adam',loss = 'mean_squared_error')"
   ]
  },
  {
   "cell_type": "code",
   "execution_count": 21,
   "metadata": {
    "execution": {
     "iopub.execute_input": "2021-07-06T09:38:08.412204Z",
     "iopub.status.busy": "2021-07-06T09:38:08.411845Z",
     "iopub.status.idle": "2021-07-06T09:38:38.516095Z",
     "shell.execute_reply": "2021-07-06T09:38:38.515231Z",
     "shell.execute_reply.started": "2021-07-06T09:38:08.412173Z"
    }
   },
   "outputs": [
    {
     "name": "stdout",
     "output_type": "stream",
     "text": [
      "Epoch 1/50\n",
      "38/38 [==============================] - 7s 13ms/step - loss: 0.0736\n",
      "Epoch 2/50\n",
      "38/38 [==============================] - 0s 12ms/step - loss: 0.0026\n",
      "Epoch 3/50\n",
      "38/38 [==============================] - 0s 12ms/step - loss: 0.0023\n",
      "Epoch 4/50\n",
      "38/38 [==============================] - 0s 12ms/step - loss: 0.0019\n",
      "Epoch 5/50\n",
      "38/38 [==============================] - 0s 12ms/step - loss: 0.0023\n",
      "Epoch 6/50\n",
      "38/38 [==============================] - 0s 12ms/step - loss: 0.0021\n",
      "Epoch 7/50\n",
      "38/38 [==============================] - 0s 12ms/step - loss: 0.0021\n",
      "Epoch 8/50\n",
      "38/38 [==============================] - 0s 12ms/step - loss: 0.0022\n",
      "Epoch 9/50\n",
      "38/38 [==============================] - 0s 13ms/step - loss: 0.0027\n",
      "Epoch 10/50\n",
      "38/38 [==============================] - 0s 12ms/step - loss: 0.0017\n",
      "Epoch 11/50\n",
      "38/38 [==============================] - 0s 12ms/step - loss: 0.0019\n",
      "Epoch 12/50\n",
      "38/38 [==============================] - 0s 12ms/step - loss: 0.0014\n",
      "Epoch 13/50\n",
      "38/38 [==============================] - 0s 12ms/step - loss: 0.0016\n",
      "Epoch 14/50\n",
      "38/38 [==============================] - 0s 12ms/step - loss: 0.0016\n",
      "Epoch 15/50\n",
      "38/38 [==============================] - 1s 16ms/step - loss: 0.0014\n",
      "Epoch 16/50\n",
      "38/38 [==============================] - 0s 12ms/step - loss: 0.0018\n",
      "Epoch 17/50\n",
      "38/38 [==============================] - 0s 12ms/step - loss: 0.0014\n",
      "Epoch 18/50\n",
      "38/38 [==============================] - 0s 12ms/step - loss: 0.0013\n",
      "Epoch 19/50\n",
      "38/38 [==============================] - 0s 12ms/step - loss: 0.0013\n",
      "Epoch 20/50\n",
      "38/38 [==============================] - 0s 12ms/step - loss: 0.0014\n",
      "Epoch 21/50\n",
      "38/38 [==============================] - 0s 12ms/step - loss: 0.0017\n",
      "Epoch 22/50\n",
      "38/38 [==============================] - 0s 12ms/step - loss: 0.0014\n",
      "Epoch 23/50\n",
      "38/38 [==============================] - 0s 12ms/step - loss: 0.0013\n",
      "Epoch 24/50\n",
      "38/38 [==============================] - 0s 12ms/step - loss: 0.0012\n",
      "Epoch 25/50\n",
      "38/38 [==============================] - 0s 12ms/step - loss: 0.0011\n",
      "Epoch 26/50\n",
      "38/38 [==============================] - 0s 12ms/step - loss: 0.0011\n",
      "Epoch 27/50\n",
      "38/38 [==============================] - 0s 12ms/step - loss: 0.0010\n",
      "Epoch 28/50\n",
      "38/38 [==============================] - 0s 12ms/step - loss: 9.6466e-04\n",
      "Epoch 29/50\n",
      "38/38 [==============================] - 0s 12ms/step - loss: 0.0013\n",
      "Epoch 30/50\n",
      "38/38 [==============================] - 0s 12ms/step - loss: 8.7765e-04\n",
      "Epoch 31/50\n",
      "38/38 [==============================] - 0s 12ms/step - loss: 9.5929e-04\n",
      "Epoch 32/50\n",
      "38/38 [==============================] - 0s 12ms/step - loss: 0.0011\n",
      "Epoch 33/50\n",
      "38/38 [==============================] - 0s 12ms/step - loss: 0.0011\n",
      "Epoch 34/50\n",
      "38/38 [==============================] - 0s 12ms/step - loss: 0.0010\n",
      "Epoch 35/50\n",
      "38/38 [==============================] - 0s 12ms/step - loss: 7.7693e-04\n",
      "Epoch 36/50\n",
      "38/38 [==============================] - 0s 13ms/step - loss: 6.4725e-04\n",
      "Epoch 37/50\n",
      "38/38 [==============================] - 0s 12ms/step - loss: 7.4713e-04\n",
      "Epoch 38/50\n",
      "38/38 [==============================] - 1s 15ms/step - loss: 7.6417e-04\n",
      "Epoch 39/50\n",
      "38/38 [==============================] - 0s 13ms/step - loss: 6.4659e-04\n",
      "Epoch 40/50\n",
      "38/38 [==============================] - 0s 12ms/step - loss: 5.7544e-04\n",
      "Epoch 41/50\n",
      "38/38 [==============================] - 0s 12ms/step - loss: 6.0501e-04\n",
      "Epoch 42/50\n",
      "38/38 [==============================] - 0s 13ms/step - loss: 5.7632e-04\n",
      "Epoch 43/50\n",
      "38/38 [==============================] - 0s 12ms/step - loss: 6.0354e-04\n",
      "Epoch 44/50\n",
      "38/38 [==============================] - 0s 12ms/step - loss: 5.4407e-04\n",
      "Epoch 45/50\n",
      "38/38 [==============================] - 0s 12ms/step - loss: 5.6645e-04\n",
      "Epoch 46/50\n",
      "38/38 [==============================] - 0s 12ms/step - loss: 5.2545e-04\n",
      "Epoch 47/50\n",
      "38/38 [==============================] - 0s 12ms/step - loss: 5.9368e-04\n",
      "Epoch 48/50\n",
      "38/38 [==============================] - 0s 12ms/step - loss: 4.8332e-04\n",
      "Epoch 49/50\n",
      "38/38 [==============================] - 0s 12ms/step - loss: 4.8896e-04\n",
      "Epoch 50/50\n",
      "38/38 [==============================] - 0s 13ms/step - loss: 4.9844e-04\n"
     ]
    }
   ],
   "source": [
    "hist = model.fit(X,y,epochs =50 ,batch_size = 32)"
   ]
  },
  {
   "cell_type": "code",
   "execution_count": 22,
   "metadata": {
    "execution": {
     "iopub.execute_input": "2021-07-06T09:41:10.418751Z",
     "iopub.status.busy": "2021-07-06T09:41:10.418421Z",
     "iopub.status.idle": "2021-07-06T09:41:10.554922Z",
     "shell.execute_reply": "2021-07-06T09:41:10.553998Z",
     "shell.execute_reply.started": "2021-07-06T09:41:10.418721Z"
    }
   },
   "outputs": [
    {
     "data": {
      "text/plain": [
       "[<matplotlib.lines.Line2D at 0x7fa4946cc710>]"
      ]
     },
     "execution_count": 22,
     "metadata": {},
     "output_type": "execute_result"
    },
    {
     "data": {
      "image/png": "[encoded data removed]",
      "text/plain": [
       "<Figure size 432x288 with 1 Axes>"
      ]
     },
     "metadata": {
      "needs_background": "light"
     },
     "output_type": "display_data"
    }
   ],
   "source": [
    "import matplotlib.pyplot as plt\n",
    "plt.plot(hist.history['loss'])"
   ]
  },
  {
   "cell_type": "code",
   "execution_count": 23,
   "metadata": {
    "execution": {
     "iopub.execute_input": "2021-07-06T09:42:26.378944Z",
     "iopub.status.busy": "2021-07-06T09:42:26.378608Z",
     "iopub.status.idle": "2021-07-06T09:42:28.133215Z",
     "shell.execute_reply": "2021-07-06T09:42:28.132351Z",
     "shell.execute_reply.started": "2021-07-06T09:42:26.378914Z"
    }
   },
   "outputs": [],
   "source": [
    "y_pred = model.predict(X)"
   ]
  },
  {
   "cell_type": "code",
   "execution_count": 24,
   "metadata": {
    "execution": {
     "iopub.execute_input": "2021-07-06T09:43:27.793728Z",
     "iopub.status.busy": "2021-07-06T09:43:27.793415Z",
     "iopub.status.idle": "2021-07-06T09:43:27.797767Z",
     "shell.execute_reply": "2021-07-06T09:43:27.796887Z",
     "shell.execute_reply.started": "2021-07-06T09:43:27.793700Z"
    }
   },
   "outputs": [],
   "source": [
    "y_pred = scaler.inverse_transform(y_pred)"
   ]
  },
  {
   "cell_type": "code",
   "execution_count": 26,
   "metadata": {
    "execution": {
     "iopub.execute_input": "2021-07-06T09:46:46.125486Z",
     "iopub.status.busy": "2021-07-06T09:46:46.125161Z",
     "iopub.status.idle": "2021-07-06T09:46:46.252216Z",
     "shell.execute_reply": "2021-07-06T09:46:46.251280Z",
     "shell.execute_reply.started": "2021-07-06T09:46:46.125457Z"
    }
   },
   "outputs": [
    {
     "data": {
      "text/plain": [
       "[<matplotlib.lines.Line2D at 0x7fa4942e4490>]"
      ]
     },
     "execution_count": 26,
     "metadata": {},
     "output_type": "execute_result"
    },
    {
     "data": {
      "image/png": "[encoded data removed]",
      "text/plain": [
       "<Figure size 432x288 with 1 Axes>"
      ]
     },
     "metadata": {
      "needs_background": "light"
     },
     "output_type": "display_data"
    }
   ],
   "source": [
    "plt.plot(df_train['Open'],c='blue')\n",
    "plt.plot(y_pred,c='red')"
   ]
  },
  {
   "cell_type": "code",
   "execution_count": 28,
   "metadata": {
    "execution": {
     "iopub.execute_input": "2021-07-06T09:51:25.434779Z",
     "iopub.status.busy": "2021-07-06T09:51:25.434452Z",
     "iopub.status.idle": "2021-07-06T09:51:25.438787Z",
     "shell.execute_reply": "2021-07-06T09:51:25.437959Z",
     "shell.execute_reply.started": "2021-07-06T09:51:25.434749Z"
    }
   },
   "outputs": [],
   "source": [
    "tr = df_train['Open'][60:].reset_index(drop=True)"
   ]
  },
  {
   "cell_type": "code",
   "execution_count": 29,
   "metadata": {
    "execution": {
     "iopub.execute_input": "2021-07-06T09:53:20.480454Z",
     "iopub.status.busy": "2021-07-06T09:53:20.480045Z",
     "iopub.status.idle": "2021-07-06T09:53:20.602473Z",
     "shell.execute_reply": "2021-07-06T09:53:20.601727Z",
     "shell.execute_reply.started": "2021-07-06T09:53:20.480409Z"
    }
   },
   "outputs": [
    {
     "data": {
      "text/plain": [
       "[<matplotlib.lines.Line2D at 0x7fa494274290>]"
      ]
     },
     "execution_count": 29,
     "metadata": {},
     "output_type": "execute_result"
    },
    {
     "data": {
      "image/png": "[encoded data removed]",
      "text/plain": [
       "<Figure size 432x288 with 1 Axes>"
      ]
     },
     "metadata": {
      "needs_background": "light"
     },
     "output_type": "display_data"
    }
   ],
   "source": [
    "plt.plot(tr,c='blue')\n",
    "plt.plot(y_pred,c='red')"
   ]
  },
  {
   "cell_type": "code",
   "execution_count": 30,
   "metadata": {
    "execution": {
     "iopub.execute_input": "2021-07-06T09:54:29.499595Z",
     "iopub.status.busy": "2021-07-06T09:54:29.499171Z",
     "iopub.status.idle": "2021-07-06T09:54:29.530648Z",
     "shell.execute_reply": "2021-07-06T09:54:29.529581Z",
     "shell.execute_reply.started": "2021-07-06T09:54:29.499553Z"
    }
   },
   "outputs": [
    {
     "data": {
      "text/html": [
       "<div>\n",
       "<style scoped>\n",
       "    .dataframe tbody tr th:only-of-type {\n",
       "        vertical-align: middle;\n",
       "    }\n",
       "\n",
       "    .dataframe tbody tr th {\n",
       "        vertical-align: top;\n",
       "    }\n",
       "\n",
       "    .dataframe thead th {\n",
       "        text-align: right;\n",
       "    }\n",
       "</style>\n",
       "<table border=\"1\" class=\"dataframe\">\n",
       "  <thead>\n",
       "    <tr style=\"text-align: right;\">\n",
       "      <th></th>\n",
       "      <th>Date</th>\n",
       "      <th>Open</th>\n",
       "      <th>High</th>\n",
       "      <th>Low</th>\n",
       "      <th>Close</th>\n",
       "      <th>Volume</th>\n",
       "    </tr>\n",
       "  </thead>\n",
       "  <tbody>\n",
       "    <tr>\n",
       "      <th>0</th>\n",
       "      <td>1/3/2017</td>\n",
       "      <td>778.81</td>\n",
       "      <td>789.63</td>\n",
       "      <td>775.80</td>\n",
       "      <td>786.14</td>\n",
       "      <td>1,657,300</td>\n",
       "    </tr>\n",
       "    <tr>\n",
       "      <th>1</th>\n",
       "      <td>1/4/2017</td>\n",
       "      <td>788.36</td>\n",
       "      <td>791.34</td>\n",
       "      <td>783.16</td>\n",
       "      <td>786.90</td>\n",
       "      <td>1,073,000</td>\n",
       "    </tr>\n",
       "    <tr>\n",
       "      <th>2</th>\n",
       "      <td>1/5/2017</td>\n",
       "      <td>786.08</td>\n",
       "      <td>794.48</td>\n",
       "      <td>785.02</td>\n",
       "      <td>794.02</td>\n",
       "      <td>1,335,200</td>\n",
       "    </tr>\n",
       "    <tr>\n",
       "      <th>3</th>\n",
       "      <td>1/6/2017</td>\n",
       "      <td>795.26</td>\n",
       "      <td>807.90</td>\n",
       "      <td>792.20</td>\n",
       "      <td>806.15</td>\n",
       "      <td>1,640,200</td>\n",
       "    </tr>\n",
       "    <tr>\n",
       "      <th>4</th>\n",
       "      <td>1/9/2017</td>\n",
       "      <td>806.40</td>\n",
       "      <td>809.97</td>\n",
       "      <td>802.83</td>\n",
       "      <td>806.65</td>\n",
       "      <td>1,272,400</td>\n",
       "    </tr>\n",
       "    <tr>\n",
       "      <th>5</th>\n",
       "      <td>1/10/2017</td>\n",
       "      <td>807.86</td>\n",
       "      <td>809.13</td>\n",
       "      <td>803.51</td>\n",
       "      <td>804.79</td>\n",
       "      <td>1,176,800</td>\n",
       "    </tr>\n",
       "    <tr>\n",
       "      <th>6</th>\n",
       "      <td>1/11/2017</td>\n",
       "      <td>805.00</td>\n",
       "      <td>808.15</td>\n",
       "      <td>801.37</td>\n",
       "      <td>807.91</td>\n",
       "      <td>1,065,900</td>\n",
       "    </tr>\n",
       "    <tr>\n",
       "      <th>7</th>\n",
       "      <td>1/12/2017</td>\n",
       "      <td>807.14</td>\n",
       "      <td>807.39</td>\n",
       "      <td>799.17</td>\n",
       "      <td>806.36</td>\n",
       "      <td>1,353,100</td>\n",
       "    </tr>\n",
       "    <tr>\n",
       "      <th>8</th>\n",
       "      <td>1/13/2017</td>\n",
       "      <td>807.48</td>\n",
       "      <td>811.22</td>\n",
       "      <td>806.69</td>\n",
       "      <td>807.88</td>\n",
       "      <td>1,099,200</td>\n",
       "    </tr>\n",
       "    <tr>\n",
       "      <th>9</th>\n",
       "      <td>1/17/2017</td>\n",
       "      <td>807.08</td>\n",
       "      <td>807.14</td>\n",
       "      <td>800.37</td>\n",
       "      <td>804.61</td>\n",
       "      <td>1,362,100</td>\n",
       "    </tr>\n",
       "    <tr>\n",
       "      <th>10</th>\n",
       "      <td>1/18/2017</td>\n",
       "      <td>805.81</td>\n",
       "      <td>806.21</td>\n",
       "      <td>800.99</td>\n",
       "      <td>806.07</td>\n",
       "      <td>1,294,400</td>\n",
       "    </tr>\n",
       "    <tr>\n",
       "      <th>11</th>\n",
       "      <td>1/19/2017</td>\n",
       "      <td>805.12</td>\n",
       "      <td>809.48</td>\n",
       "      <td>801.80</td>\n",
       "      <td>802.17</td>\n",
       "      <td>919,300</td>\n",
       "    </tr>\n",
       "    <tr>\n",
       "      <th>12</th>\n",
       "      <td>1/20/2017</td>\n",
       "      <td>806.91</td>\n",
       "      <td>806.91</td>\n",
       "      <td>801.69</td>\n",
       "      <td>805.02</td>\n",
       "      <td>1,670,000</td>\n",
       "    </tr>\n",
       "    <tr>\n",
       "      <th>13</th>\n",
       "      <td>1/23/2017</td>\n",
       "      <td>807.25</td>\n",
       "      <td>820.87</td>\n",
       "      <td>803.74</td>\n",
       "      <td>819.31</td>\n",
       "      <td>1,963,600</td>\n",
       "    </tr>\n",
       "    <tr>\n",
       "      <th>14</th>\n",
       "      <td>1/24/2017</td>\n",
       "      <td>822.30</td>\n",
       "      <td>825.90</td>\n",
       "      <td>817.82</td>\n",
       "      <td>823.87</td>\n",
       "      <td>1,474,000</td>\n",
       "    </tr>\n",
       "    <tr>\n",
       "      <th>15</th>\n",
       "      <td>1/25/2017</td>\n",
       "      <td>829.62</td>\n",
       "      <td>835.77</td>\n",
       "      <td>825.06</td>\n",
       "      <td>835.67</td>\n",
       "      <td>1,494,500</td>\n",
       "    </tr>\n",
       "    <tr>\n",
       "      <th>16</th>\n",
       "      <td>1/26/2017</td>\n",
       "      <td>837.81</td>\n",
       "      <td>838.00</td>\n",
       "      <td>827.01</td>\n",
       "      <td>832.15</td>\n",
       "      <td>2,973,900</td>\n",
       "    </tr>\n",
       "    <tr>\n",
       "      <th>17</th>\n",
       "      <td>1/27/2017</td>\n",
       "      <td>834.71</td>\n",
       "      <td>841.95</td>\n",
       "      <td>820.44</td>\n",
       "      <td>823.31</td>\n",
       "      <td>2,965,800</td>\n",
       "    </tr>\n",
       "    <tr>\n",
       "      <th>18</th>\n",
       "      <td>1/30/2017</td>\n",
       "      <td>814.66</td>\n",
       "      <td>815.84</td>\n",
       "      <td>799.80</td>\n",
       "      <td>802.32</td>\n",
       "      <td>3,246,600</td>\n",
       "    </tr>\n",
       "    <tr>\n",
       "      <th>19</th>\n",
       "      <td>1/31/2017</td>\n",
       "      <td>796.86</td>\n",
       "      <td>801.25</td>\n",
       "      <td>790.52</td>\n",
       "      <td>796.79</td>\n",
       "      <td>2,160,600</td>\n",
       "    </tr>\n",
       "  </tbody>\n",
       "</table>\n",
       "</div>"
      ],
      "text/plain": [
       "         Date    Open    High     Low   Close     Volume\n",
       "0    1/3/2017  778.81  789.63  775.80  786.14  1,657,300\n",
       "1    1/4/2017  788.36  791.34  783.16  786.90  1,073,000\n",
       "2    1/5/2017  786.08  794.48  785.02  794.02  1,335,200\n",
       "3    1/6/2017  795.26  807.90  792.20  806.15  1,640,200\n",
       "4    1/9/2017  806.40  809.97  802.83  806.65  1,272,400\n",
       "5   1/10/2017  807.86  809.13  803.51  804.79  1,176,800\n",
       "6   1/11/2017  805.00  808.15  801.37  807.91  1,065,900\n",
       "7   1/12/2017  807.14  807.39  799.17  806.36  1,353,100\n",
       "8   1/13/2017  807.48  811.22  806.69  807.88  1,099,200\n",
       "9   1/17/2017  807.08  807.14  800.37  804.61  1,362,100\n",
       "10  1/18/2017  805.81  806.21  800.99  806.07  1,294,400\n",
       "11  1/19/2017  805.12  809.48  801.80  802.17    919,300\n",
       "12  1/20/2017  806.91  806.91  801.69  805.02  1,670,000\n",
       "13  1/23/2017  807.25  820.87  803.74  819.31  1,963,600\n",
       "14  1/24/2017  822.30  825.90  817.82  823.87  1,474,000\n",
       "15  1/25/2017  829.62  835.77  825.06  835.67  1,494,500\n",
       "16  1/26/2017  837.81  838.00  827.01  832.15  2,973,900\n",
       "17  1/27/2017  834.71  841.95  820.44  823.31  2,965,800\n",
       "18  1/30/2017  814.66  815.84  799.80  802.32  3,246,600\n",
       "19  1/31/2017  796.86  801.25  790.52  796.79  2,160,600"
      ]
     },
     "execution_count": 30,
     "metadata": {},
     "output_type": "execute_result"
    }
   ],
   "source": [
    "df_test"
   ]
  },
  {
   "cell_type": "code",
   "execution_count": 51,
   "metadata": {
    "execution": {
     "iopub.execute_input": "2021-07-06T10:26:24.272440Z",
     "iopub.status.busy": "2021-07-06T10:26:24.272120Z",
     "iopub.status.idle": "2021-07-06T10:26:24.282552Z",
     "shell.execute_reply": "2021-07-06T10:26:24.281679Z",
     "shell.execute_reply.started": "2021-07-06T10:26:24.272411Z"
    }
   },
   "outputs": [],
   "source": [
    "x_test = scaler.transform(df_test[['Open']])"
   ]
  },
  {
   "cell_type": "code",
   "execution_count": 52,
   "metadata": {
    "execution": {
     "iopub.execute_input": "2021-07-06T10:26:40.932360Z",
     "iopub.status.busy": "2021-07-06T10:26:40.932052Z",
     "iopub.status.idle": "2021-07-06T10:26:40.937627Z",
     "shell.execute_reply": "2021-07-06T10:26:40.936884Z",
     "shell.execute_reply.started": "2021-07-06T10:26:40.932334Z"
    }
   },
   "outputs": [
    {
     "data": {
      "text/plain": [
       "array([[0.92955205],\n",
       "       [0.94731751],\n",
       "       [0.94307612],\n",
       "       [0.96015329],\n",
       "       [0.98087655],\n",
       "       [0.98359253],\n",
       "       [0.97827219],\n",
       "       [0.98225314],\n",
       "       [0.98288563],\n",
       "       [0.98214153],\n",
       "       [0.979779  ],\n",
       "       [0.97849542],\n",
       "       [0.98182528],\n",
       "       [0.98245777],\n",
       "       [1.01045465],\n",
       "       [1.02407173],\n",
       "       [1.03930724],\n",
       "       [1.03354044],\n",
       "       [0.99624228],\n",
       "       [0.9631297 ]])"
      ]
     },
     "execution_count": 52,
     "metadata": {},
     "output_type": "execute_result"
    }
   ],
   "source": [
    "x_test"
   ]
  },
  {
   "cell_type": "code",
   "execution_count": 53,
   "metadata": {
    "execution": {
     "iopub.execute_input": "2021-07-06T10:28:23.773443Z",
     "iopub.status.busy": "2021-07-06T10:28:23.773125Z",
     "iopub.status.idle": "2021-07-06T10:28:23.779779Z",
     "shell.execute_reply": "2021-07-06T10:28:23.778994Z",
     "shell.execute_reply.started": "2021-07-06T10:28:23.773414Z"
    }
   },
   "outputs": [
    {
     "data": {
      "text/plain": [
       "array([[0.9299055 ],\n",
       "       [0.93113327],\n",
       "       [0.92750577],\n",
       "       [0.94415507],\n",
       "       [0.93876032],\n",
       "       [0.93403527],\n",
       "       [0.93483518],\n",
       "       [0.9313937 ],\n",
       "       [0.94636878],\n",
       "       [0.96569685],\n",
       "       [0.97510976],\n",
       "       [0.95966962],\n",
       "       [0.97808617],\n",
       "       [1.        ],\n",
       "       [0.98076494],\n",
       "       [0.97083116],\n",
       "       [0.98450406],\n",
       "       [0.96054394],\n",
       "       [0.9371419 ],\n",
       "       [0.92841729],\n",
       "       [0.90804747],\n",
       "       [0.8771858 ],\n",
       "       [0.92153434],\n",
       "       [0.93809063],\n",
       "       [0.93165414],\n",
       "       [0.95254483],\n",
       "       [0.88812412],\n",
       "       [0.88637547],\n",
       "       [0.87032145],\n",
       "       [0.88563137],\n",
       "       [0.90743359],\n",
       "       [0.91571173],\n",
       "       [0.89941588],\n",
       "       [0.91805566],\n",
       "       [0.9089404 ],\n",
       "       [0.9024853 ],\n",
       "       [0.89456061],\n",
       "       [0.91600938],\n",
       "       [0.9132934 ],\n",
       "       [0.88979835],\n",
       "       [0.86589404],\n",
       "       [0.89030062],\n",
       "       [0.90335962],\n",
       "       [0.89642086],\n",
       "       [0.91777662],\n",
       "       [0.93176576],\n",
       "       [0.94114145],\n",
       "       [0.95762334],\n",
       "       [0.96413424],\n",
       "       [0.96402262],\n",
       "       [0.96971501],\n",
       "       [0.95077759],\n",
       "       [0.96294367],\n",
       "       [0.96123223],\n",
       "       [0.95475854],\n",
       "       [0.95204256],\n",
       "       [0.95163331],\n",
       "       [0.95725128],\n",
       "       [0.93796041],\n",
       "       [0.93688146]])"
      ]
     },
     "execution_count": 53,
     "metadata": {},
     "output_type": "execute_result"
    }
   ],
   "source": [
    "X_temp[-60:]"
   ]
  },
  {
   "cell_type": "code",
   "execution_count": 54,
   "metadata": {
    "execution": {
     "iopub.execute_input": "2021-07-06T10:30:06.688197Z",
     "iopub.status.busy": "2021-07-06T10:30:06.687846Z",
     "iopub.status.idle": "2021-07-06T10:30:06.691988Z",
     "shell.execute_reply": "2021-07-06T10:30:06.690987Z",
     "shell.execute_reply.started": "2021-07-06T10:30:06.688167Z"
    }
   },
   "outputs": [],
   "source": [
    "X_test = np.vstack([X_temp[-60:],x_test])"
   ]
  },
  {
   "cell_type": "code",
   "execution_count": 55,
   "metadata": {
    "execution": {
     "iopub.execute_input": "2021-07-06T10:31:30.673422Z",
     "iopub.status.busy": "2021-07-06T10:31:30.673109Z",
     "iopub.status.idle": "2021-07-06T10:31:30.679704Z",
     "shell.execute_reply": "2021-07-06T10:31:30.678804Z",
     "shell.execute_reply.started": "2021-07-06T10:31:30.673395Z"
    }
   },
   "outputs": [],
   "source": [
    "Xt = []\n",
    "for i in range (0,20):\n",
    "    temp = X_test[i:i+61,0]\n",
    "    Xt.append(temp)"
   ]
  },
  {
   "cell_type": "code",
   "execution_count": 57,
   "metadata": {
    "execution": {
     "iopub.execute_input": "2021-07-06T10:32:32.295655Z",
     "iopub.status.busy": "2021-07-06T10:32:32.295351Z",
     "iopub.status.idle": "2021-07-06T10:32:32.301468Z",
     "shell.execute_reply": "2021-07-06T10:32:32.300560Z",
     "shell.execute_reply.started": "2021-07-06T10:32:32.295627Z"
    }
   },
   "outputs": [
    {
     "data": {
      "text/plain": [
       "array([[0.9299055 , 0.93113327, 0.92750577, ..., 0.93796041, 0.93688146,\n",
       "        0.92955205],\n",
       "       [0.93113327, 0.92750577, 0.94415507, ..., 0.93688146, 0.92955205,\n",
       "        0.94731751],\n",
       "       [0.92750577, 0.94415507, 0.93876032, ..., 0.92955205, 0.94731751,\n",
       "        0.94307612],\n",
       "       ...,\n",
       "       [0.96054394, 0.9371419 , 0.92841729, ..., 1.02407173, 1.03930724,\n",
       "        1.03354044],\n",
       "       [0.9371419 , 0.92841729, 0.90804747, ..., 1.03930724, 1.03354044,\n",
       "        0.99624228],\n",
       "       [0.92841729, 0.90804747, 0.8771858 , ..., 1.03354044, 0.99624228,\n",
       "        0.9631297 ]])"
      ]
     },
     "execution_count": 57,
     "metadata": {},
     "output_type": "execute_result"
    }
   ],
   "source": [
    "X_test = np.array(Xt)\n",
    "X_test"
   ]
  },
  {
   "cell_type": "code",
   "execution_count": 58,
   "metadata": {
    "execution": {
     "iopub.execute_input": "2021-07-06T10:32:38.684784Z",
     "iopub.status.busy": "2021-07-06T10:32:38.684486Z",
     "iopub.status.idle": "2021-07-06T10:32:38.689886Z",
     "shell.execute_reply": "2021-07-06T10:32:38.687692Z",
     "shell.execute_reply.started": "2021-07-06T10:32:38.684757Z"
    }
   },
   "outputs": [],
   "source": [
    "X_test = X_test[:,:-1]"
   ]
  },
  {
   "cell_type": "code",
   "execution_count": 59,
   "metadata": {
    "execution": {
     "iopub.execute_input": "2021-07-06T10:32:45.142011Z",
     "iopub.status.busy": "2021-07-06T10:32:45.141680Z",
     "iopub.status.idle": "2021-07-06T10:32:45.146052Z",
     "shell.execute_reply": "2021-07-06T10:32:45.145115Z",
     "shell.execute_reply.started": "2021-07-06T10:32:45.141974Z"
    }
   },
   "outputs": [],
   "source": [
    "X_test = X_test.reshape(-1,60,1)"
   ]
  },
  {
   "cell_type": "code",
   "execution_count": 60,
   "metadata": {
    "execution": {
     "iopub.execute_input": "2021-07-06T10:32:48.051593Z",
     "iopub.status.busy": "2021-07-06T10:32:48.051283Z",
     "iopub.status.idle": "2021-07-06T10:32:48.097113Z",
     "shell.execute_reply": "2021-07-06T10:32:48.096301Z",
     "shell.execute_reply.started": "2021-07-06T10:32:48.051565Z"
    }
   },
   "outputs": [],
   "source": [
    "y_test_pre = model.predict(X_test)"
   ]
  },
  {
   "cell_type": "code",
   "execution_count": 61,
   "metadata": {
    "execution": {
     "iopub.execute_input": "2021-07-06T10:32:53.387881Z",
     "iopub.status.busy": "2021-07-06T10:32:53.387551Z",
     "iopub.status.idle": "2021-07-06T10:32:53.391513Z",
     "shell.execute_reply": "2021-07-06T10:32:53.390630Z",
     "shell.execute_reply.started": "2021-07-06T10:32:53.387837Z"
    }
   },
   "outputs": [],
   "source": [
    "y_test_pre = scaler.inverse_transform(y_test_pre)"
   ]
  },
  {
   "cell_type": "code",
   "execution_count": 62,
   "metadata": {
    "execution": {
     "iopub.execute_input": "2021-07-06T10:32:59.243570Z",
     "iopub.status.busy": "2021-07-06T10:32:59.243244Z",
     "iopub.status.idle": "2021-07-06T10:32:59.252239Z",
     "shell.execute_reply": "2021-07-06T10:32:59.251200Z",
     "shell.execute_reply.started": "2021-07-06T10:32:59.243539Z"
    }
   },
   "outputs": [
    {
     "data": {
      "text/plain": [
       "array([[783.13983],\n",
       "       [779.74927],\n",
       "       [782.7499 ],\n",
       "       [785.0419 ],\n",
       "       [789.1661 ],\n",
       "       [796.60803],\n",
       "       [801.0069 ],\n",
       "       [799.65344],\n",
       "       [798.18317],\n",
       "       [798.2439 ],\n",
       "       [798.8883 ],\n",
       "       [799.11035],\n",
       "       [799.2207 ],\n",
       "       [800.612  ],\n",
       "       [802.17487],\n",
       "       [810.29193],\n",
       "       [819.51825],\n",
       "       [826.8984 ],\n",
       "       [827.41296],\n",
       "       [815.44244]], dtype=float32)"
      ]
     },
     "execution_count": 62,
     "metadata": {},
     "output_type": "execute_result"
    }
   ],
   "source": [
    "y_test_pre"
   ]
  },
  {
   "cell_type": "code",
   "execution_count": 63,
   "metadata": {
    "execution": {
     "iopub.execute_input": "2021-07-06T10:33:05.206770Z",
     "iopub.status.busy": "2021-07-06T10:33:05.206470Z",
     "iopub.status.idle": "2021-07-06T10:33:05.333796Z",
     "shell.execute_reply": "2021-07-06T10:33:05.333029Z",
     "shell.execute_reply.started": "2021-07-06T10:33:05.206740Z"
    }
   },
   "outputs": [
    {
     "data": {
      "text/plain": [
       "[<matplotlib.lines.Line2D at 0x7fa494047a50>]"
      ]
     },
     "execution_count": 63,
     "metadata": {},
     "output_type": "execute_result"
    },
    {
     "data": {
      "image/png": "[encoded data removed]",
      "text/plain": [
       "<Figure size 432x288 with 1 Axes>"
      ]
     },
     "metadata": {
      "needs_background": "light"
     },
     "output_type": "display_data"
    }
   ],
   "source": [
    "plt.plot(df_test['Open'],c='blue' )\n",
    "plt.plot(y_test_pre,c='red')"
   ]
  }
 ],
 "metadata": {
  "kernelspec": {
   "display_name": "Python 3",
   "language": "python",
   "name": "python3"
  },
  "language_info": {
   "codemirror_mode": {
    "name": "ipython",
    "version": 3
   },
   "file_extension": ".py",
   "mimetype": "text/x-python",
   "name": "python",
   "nbconvert_exporter": "python",
   "pygments_lexer": "ipython3",
   "version": "3.8.5"
  }
 },
 "nbformat": 4,
 "nbformat_minor": 4
}
